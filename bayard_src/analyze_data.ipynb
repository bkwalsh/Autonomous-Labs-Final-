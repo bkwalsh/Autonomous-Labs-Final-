{
 "cells": [
  {
   "cell_type": "code",
   "execution_count": null,
   "metadata": {},
   "outputs": [],
   "source": [
    "import itertools\n",
    "import io\n",
    "import numpy as np\n",
    "import openai\n",
    "import pandas as pd\n",
    "from sklearn.feature_extraction.text import TfidfVectorizer\n",
    "from sklearn.metrics.pairwise import cosine_similarity\n"
   ]
  },
  {
   "cell_type": "code",
   "execution_count": null,
   "metadata": {},
   "outputs": [],
   "source": [
    "data_pulling = pd.read_csv(\"generated_data.csv\")\n",
    "data_pulling\n"
   ]
  },
  {
   "cell_type": "code",
   "execution_count": null,
   "metadata": {},
   "outputs": [],
   "source": [
    "# correlates the n-1 first columns in dataframe values with the nth column\n",
    "def overall_correlation(df):\n",
    "    if df.shape[1] < 2:\n",
    "        raise ValueError(\"DataFrame must have at least two columns\")\n",
    "    corr_matrix = df.corr()\n",
    "    last_column = df.columns[-1]\n",
    "    correlations = corr_matrix[last_column][:-1]\n",
    "    overall_corr = correlations.mean()\n",
    "\n",
    "    return overall_corr\n"
   ]
  },
  {
   "cell_type": "code",
   "execution_count": null,
   "metadata": {},
   "outputs": [],
   "source": [
    "# cleans dataframe by converting objects to numbers, part of parsing.\n",
    "def convert_strings_to_numbers(df):\n",
    "    new_df = pd.DataFrame()\n",
    "\n",
    "    for column in df.columns:\n",
    "        if df[column].dtype == \"object\":\n",
    "            unique_strings = df[column].unique()\n",
    "            string_to_number = {\n",
    "                string: i + 1 for i, string in enumerate(unique_strings)\n",
    "            }\n",
    "            new_df[column] = df[column].map(string_to_number)\n",
    "        else:\n",
    "            new_df[column] = df[column]\n",
    "\n",
    "    return new_df\n"
   ]
  },
  {
   "cell_type": "code",
   "execution_count": null,
   "metadata": {},
   "outputs": [],
   "source": [
    "data_pulling[\"corr\"] = None\n"
   ]
  },
  {
   "cell_type": "code",
   "execution_count": null,
   "metadata": {},
   "outputs": [],
   "source": [
    "\n",
    "\n",
    "i = 0\n",
    "for h, p in zip(data_pulling[\"data\"], data_pulling[\"specific_plan\"]):\n",
    "\n",
    "    if not isinstance(input_string, str):\n",
    "        data_pulling.at[i, \"corr\"] = 0\n",
    "        i += 1\n",
    "        continue\n",
    "\n",
    "    input_string = input_string.replace(\"`\", \"\")\n",
    "    input_string = input_string.strip()\n",
    "    lines = input_string.split(\"\\n\")\n",
    "    headers = lines[0].split()\n",
    "    data_lines = []\n",
    "    for line in lines[1:]:\n",
    "        data_lines.append(re.split(r\"\\s{2,}\", line.strip()))\n",
    "    csv_data = io.StringIO()\n",
    "    csv_data.write(\",\".join(headers) + \"\\n\")\n",
    "    for data_line in data_lines:\n",
    "        csv_data.write(\",\".join(data_line) + \"\\n\")\n",
    "\n",
    "    csv_data.seek(0)\n",
    "\n",
    "    try:\n",
    "        df = pd.read_csv(csv_data)\n",
    "        df.fillna(0, inplace=True)\n",
    "        df = convert_strings_to_numbers(df)\n",
    "\n",
    "        val = abs(overall_correlation(df))\n",
    "        if np.isnan(val):\n",
    "            val = 0\n",
    "    except pd.errors.ParserError:\n",
    "        val = 0\n",
    "\n",
    "    data_pulling.at[i, \"corr\"] = val\n",
    "    print(i)\n",
    "    i += 1\n"
   ]
  },
  {
   "cell_type": "code",
   "execution_count": null,
   "metadata": {},
   "outputs": [],
   "source": [
    "data_pulling.to_csv(\"final_data.csv\", index=False)\n"
   ]
  }
 ],
 "metadata": {
  "kernelspec": {
   "display_name": "CMSC35360",
   "language": "python",
   "name": "python3"
  },
  "language_info": {
   "codemirror_mode": {
    "name": "ipython",
    "version": 3
   },
   "file_extension": ".py",
   "mimetype": "text/x-python",
   "name": "python",
   "nbconvert_exporter": "python",
   "pygments_lexer": "ipython3",
   "version": "3.11.7"
  }
 },
 "nbformat": 4,
 "nbformat_minor": 2
}
