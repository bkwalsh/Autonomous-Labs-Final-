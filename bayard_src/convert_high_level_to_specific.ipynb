{
 "cells": [
  {
   "cell_type": "code",
   "execution_count": null,
   "metadata": {},
   "outputs": [],
   "source": [
    "import itertools\n",
    "\n",
    "import openai\n",
    "import pandas as pd\n",
    "from sklearn.feature_extraction.text import TfidfVectorizer\n",
    "from sklearn.metrics.pairwise import cosine_similarity\n"
   ]
  },
  {
   "cell_type": "code",
   "execution_count": null,
   "metadata": {},
   "outputs": [],
   "source": [
    "# connect to server for hypothesis generation\n",
    "import sys\n",
    "import time\n",
    "\n",
    "\n",
    "port = 80\n",
    "\n",
    "server_ip = sys.argv[1]\n",
    "\n",
    "# Set OpenAI's API key and API base to use vLLM's API server.\n",
    "openai_api_key = \"cmsc-35360\"\n",
    "openai_api_base = f\"http://195.88.24.64:{port}/v1\"\n",
    "\n",
    "\n",
    "prompt = (\n",
    "    \"Read the following scientific experimental plan carefully, and translate the high-level experimental plans into detailed, step-by-step protocols.\"\n",
    "    \" Consider the requirements for replicability and specificity in experimental science, and\"\n",
    "    \" how these steps could be communicated to someone (or something, like a robot) executing the experiment. Here is the plan.\"\n",
    ")\n",
    "\n",
    "prompt2 = \"Remember, return detailed, step-by-step protocols for specific science experiments.\"\n",
    "\n",
    "\n",
    "def create_prompt(chunk):\n",
    "    gpt_user_prompt = prompt + chunk + prompt2\n",
    "    return gpt_user_prompt\n",
    "\n",
    "\n",
    "client = openai.OpenAI(\n",
    "    api_key=openai_api_key,\n",
    "    base_url=openai_api_base,\n",
    ")\n",
    "\n",
    "\n",
    "gpt_assistant_prompt = \"You are a super smart AI that knows about science. You follow directions and you are always truthful and concise in your reponses.\"\n",
    "\n",
    "\n",
    "def query_llm(gpt_user_prompt):\n",
    "    message = [\n",
    "        {\"role\": \"assistant\", \"content\": gpt_assistant_prompt},\n",
    "        {\"role\": \"user\", \"content\": gpt_user_prompt},\n",
    "    ]\n",
    "    temperature = 0.0\n",
    "    frequency_penalty = 0.0\n",
    "    max_retries = 3\n",
    "    retry_count = 0\n",
    "\n",
    "    while retry_count < max_retries:\n",
    "        try:\n",
    "            response = client.chat.completions.create(\n",
    "                model=\"meta-llama/Meta-Llama-3-70B-Instruct\",\n",
    "                messages=message,\n",
    "                temperature=temperature,\n",
    "                frequency_penalty=frequency_penalty,\n",
    "            )\n",
    "            time.sleep(2)\n",
    "            return response.choices[0].message.content\n",
    "            break\n",
    "        except:\n",
    "            print(\"Hypo trying again port \" + str(port))\n",
    "            retry_count += 1\n",
    "            time.sleep(2)\n",
    "            if retry_count == max_retries:\n",
    "                print(\"Maximum retries reached. Exiting the program.\")\n",
    "                exit\n",
    "    time.sleep(2)\n"
   ]
  },
  {
   "cell_type": "code",
   "execution_count": null,
   "metadata": {},
   "outputs": [],
   "source": [
    "df = pd.read_csv(\"best_scoring_high_level.csv\")\n",
    "df[\"specific_plan\"] = None\n",
    "df\n"
   ]
  },
  {
   "cell_type": "code",
   "execution_count": null,
   "metadata": {},
   "outputs": [],
   "source": [
    "i = 0\n",
    "for h, p in zip(df[\"HYPOTHESIS\"], df[\"plan\"]):\n",
    "    gpt_p = create_prompt(p)\n",
    "    response = query_llm(gpt_p)\n",
    "    df.at[i, \"specific_plan\"] = response\n",
    "    i += 1\n"
   ]
  },
  {
   "cell_type": "code",
   "execution_count": null,
   "metadata": {},
   "outputs": [],
   "source": [
    "df.to_csv(\"specific_protocol.csv\", index=False)\n"
   ]
  }
 ],
 "metadata": {
  "kernelspec": {
   "display_name": "CMSC35360",
   "language": "python",
   "name": "python3"
  },
  "language_info": {
   "codemirror_mode": {
    "name": "ipython",
    "version": 3
   },
   "file_extension": ".py",
   "mimetype": "text/x-python",
   "name": "python",
   "nbconvert_exporter": "python",
   "pygments_lexer": "ipython3",
   "version": "3.11.7"
  }
 },
 "nbformat": 4,
 "nbformat_minor": 2
}
