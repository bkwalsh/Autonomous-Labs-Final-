{
 "cells": [
  {
   "cell_type": "code",
   "execution_count": null,
   "metadata": {},
   "outputs": [],
   "source": [
    "import itertools\n",
    "\n",
    "import openai\n",
    "import pandas as pd\n",
    "from sklearn.feature_extraction.text import TfidfVectorizer\n",
    "from sklearn.metrics.pairwise import cosine_similarity\n"
   ]
  },
  {
   "cell_type": "code",
   "execution_count": null,
   "metadata": {},
   "outputs": [],
   "source": [
    "# connect to server for hypothesis generation\n",
    "import sys\n",
    "import time\n",
    "\n",
    "\n",
    "port = 80\n",
    "\n",
    "server_ip = sys.argv[1]\n",
    "\n",
    "# Set OpenAI's API key and API base to use vLLM's API server.\n",
    "openai_api_key = \"cmsc-35360\"\n",
    "openai_api_base = f\"http://195.88.24.64:{port}/v1\"\n",
    "\n",
    "\n",
    "prompt = (\n",
    "    \"Read the following scientific step-by-step protocol carefully, and generate synthetic data simulating the outcomes of the experiment.\"\n",
    "    \" Use the materials generated in the following protocol and simulating run several tests, varying the amounts of each material and attempting to simulate the\"\n",
    "    \" results of the protocol in a lab setting. I want a dataframe returned where each row is a different experimental configuration, with each column accounting for the\"\n",
    "    \" amount of material used, with the last column recording the outcome of the experiment. Simulate 25 experiments, so there should be a dataframe returned with\"\n",
    "    \" 25 rows and several columns, one for each material and one for the results of that simulated experiment. Attempt to give me data for what the experiment\"\n",
    "    \" would result in based on a lab setting. Return only a dataframe and nothing else.\"\n",
    ")\n",
    "\n",
    "prompt2 = (\n",
    "    \"Remember, aim to Simulate 25 experiments, so there should be a dataframe returned with\"\n",
    "    \" 25 rows and several columns, and nothing else. DO not return any other words or code, just the dataframe. Do not write 'Here is the simulated dataframe'\"\n",
    "    \" just return the dataframe.\"\n",
    ")\n",
    "\n",
    "\n",
    "def create_prompt(chunk):\n",
    "    gpt_user_prompt = prompt + chunk + prompt2\n",
    "    return gpt_user_prompt\n",
    "\n",
    "\n",
    "client = openai.OpenAI(\n",
    "    api_key=openai_api_key,\n",
    "    base_url=openai_api_base,\n",
    ")\n",
    "\n",
    "\n",
    "gpt_assistant_prompt = \"You are a super smart AI that knows about science. You follow directions and you are always truthful and concise in your reponses.\"\n",
    "\n",
    "\n",
    "def query_llm(gpt_user_prompt):\n",
    "    message = [\n",
    "        {\"role\": \"assistant\", \"content\": gpt_assistant_prompt},\n",
    "        {\"role\": \"user\", \"content\": gpt_user_prompt},\n",
    "    ]\n",
    "    temperature = 0.0\n",
    "    frequency_penalty = 0.0\n",
    "    max_retries = 3\n",
    "    retry_count = 0\n",
    "\n",
    "    while retry_count < max_retries:\n",
    "        try:\n",
    "            response = client.chat.completions.create(\n",
    "                model=\"meta-llama/Meta-Llama-3-70B-Instruct\",\n",
    "                messages=message,\n",
    "                temperature=temperature,\n",
    "                frequency_penalty=frequency_penalty,\n",
    "            )\n",
    "            time.sleep(2)\n",
    "            return response.choices[0].message.content\n",
    "            break\n",
    "        except:\n",
    "            print(\"Hypo trying again port \" + str(port))\n",
    "            retry_count += 1\n",
    "            time.sleep(2)\n",
    "            if retry_count == max_retries:\n",
    "                print(\"Maximum retries reached. Exiting the program.\")\n",
    "                exit\n",
    "    time.sleep(2)\n"
   ]
  },
  {
   "cell_type": "code",
   "execution_count": null,
   "metadata": {},
   "outputs": [],
   "source": [
    "df = pd.read_csv(\"specific_protocol.csv\")\n",
    "df[\"data\"] = None\n",
    "df\n"
   ]
  },
  {
   "cell_type": "code",
   "execution_count": null,
   "metadata": {},
   "outputs": [],
   "source": [
    "i = 0\n",
    "for h, p in zip(df[\"HYPOTHESIS\"], df[\"specific_plan\"]):\n",
    "    print(i)\n",
    "    gpt_p = create_prompt(p)\n",
    "    response = query_llm(gpt_p)\n",
    "    df.at[i, \"data\"] = response\n",
    "    i += 1\n"
   ]
  },
  {
   "cell_type": "code",
   "execution_count": null,
   "metadata": {},
   "outputs": [],
   "source": [
    "df.to_csv(\"generated_data.csv\", index=False)\n"
   ]
  }
 ],
 "metadata": {
  "kernelspec": {
   "display_name": "CMSC35360",
   "language": "python",
   "name": "python3"
  },
  "language_info": {
   "codemirror_mode": {
    "name": "ipython",
    "version": 3
   },
   "file_extension": ".py",
   "mimetype": "text/x-python",
   "name": "python",
   "nbconvert_exporter": "python",
   "pygments_lexer": "ipython3",
   "version": "3.11.7"
  }
 },
 "nbformat": 4,
 "nbformat_minor": 2
}
