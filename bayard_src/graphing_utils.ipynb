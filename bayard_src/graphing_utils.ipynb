{
 "cells": [
  {
   "cell_type": "markdown",
   "metadata": {},
   "source": [
    "# This file Including Graphing code for the Latex Write Up"
   ]
  },
  {
   "cell_type": "code",
   "execution_count": null,
   "metadata": {},
   "outputs": [],
   "source": [
    "import matplotlib.pyplot as plt\n",
    "import pandas as pd\n",
    "\n",
    "df = pd.read_csv(\"final_data.csv\")\n",
    "df = df.rename(columns={\"disprove_info\": \"budget?\"})\n",
    "df = df.rename(columns={\"paperinfo\": \"disprove?\"})\n",
    "df = df.rename(columns={\"budget_info\": \"summary?\"})\n",
    "df\n",
    ""
   ]
  },
  {
   "cell_type": "code",
   "execution_count": null,
   "metadata": {},
   "outputs": [],
   "source": [
    "df1 = df.copy()\n",
    "df_filtered = df1[df1[\"corr\"] >= 0.8]\n",
    "df_filtered\n",
    "df_filtered.loc[df_filtered[\"disprove?\"].notna(), \"disprove?\"] = \"disprove\"\n",
    "df_filtered.loc[df_filtered[\"summary?\"].notna(), \"summary?\"] = \"summary\"\n",
    "word_to_value = {\"unlimited\": \"unlimit\", \"limited\": \"limit\"}\n",
    "\n",
    "for col in df_filtered.columns:\n",
    "    df_filtered[col] = df_filtered[col].astype(str)\n",
    "    for word, value in word_to_value.items():\n",
    "        df_filtered.loc[df_filtered[col].str.contains(word), col] = value\n",
    ""
   ]
  },
  {
   "cell_type": "code",
   "execution_count": null,
   "metadata": {},
   "outputs": [],
   "source": [
    "columns_to_plot = [\"disprove?\", \"budget?\", \"summary?\"]\n",
    "none_placeholder = \"None\"\n",
    "fig, axes = plt.subplots(1, 3, figsize=(15, 5))\n",
    "\n",
    "for i, col in enumerate(columns_to_plot):\n",
    "    value_counts = df_filtered[col].fillna(none_placeholder).value_counts()\n",
    "    axes[i].bar(value_counts.index, value_counts.values)\n",
    "    axes[i].set_title(f\"Counts of {col}\", fontsize=18)\n",
    "    axes[i].set_xlabel(col, fontsize=18)\n",
    "    axes[i].set_ylabel(\"Counts\", fontsize=18)\n",
    "\n",
    "plt.tight_layout()\n",
    "plt.show()\n",
    ""
   ]
  },
  {
   "cell_type": "code",
   "execution_count": null,
   "metadata": {},
   "outputs": [],
   "source": [
    "# use commas to count papers\n",
    "df = df[df[\"corr\"] >= 0.8]\n",
    "df[\"comma_count\"] = df[\"papers\"].apply(lambda x: sum(1 for item in x if item == \",\"))\n",
    "\n",
    "df[\"comma_count\"] = df[\"comma_count\"].apply(lambda x: x + 1 if x > 0 else 1)\n",
    "plt.hist(\n",
    "    df[\"comma_count\"],\n",
    "    bins=range(int(min(df[\"comma_count\"])), int(max(df[\"comma_count\"])) + 2),\n",
    "    edgecolor=\"black\",\n",
    "    align=\"left\",\n",
    ")\n",
    "plt.xlabel(\"Papers Per Group\")\n",
    "plt.ylabel(\"Counts\")\n",
    "plt.title(\"Distribution of Paper Groups\")\n",
    "plt.xticks(range(int(min(df[\"comma_count\"])), int(max(df[\"comma_count\"])) + 1))\n",
    "plt.show()\n",
    ""
   ]
  },
  {
   "cell_type": "code",
   "execution_count": null,
   "metadata": {},
   "outputs": [],
   "source": [
    "zero_count = (df[\"corr\"] == 0).sum()\n",
    "non_zero_count = (df[\"corr\"] != 0).sum()\n",
    "\n",
    "print(\"Number of zero values:\", zero_count)\n",
    "print(\"Number of non-zero values:\", non_zero_count)\n",
    ""
   ]
  },
  {
   "cell_type": "code",
   "execution_count": null,
   "metadata": {},
   "outputs": [],
   "source": [
    "filtered_numbers = df[df[\"corr\"] != 0][\"corr\"]\n",
    "\n",
    "plt.hist(filtered_numbers, bins=5, range=(0, 1), edgecolor=\"black\")\n",
    "plt.xlabel(\"Correlation\")\n",
    "plt.ylabel(\"Count\")\n",
    "plt.title(\"Correlation Distribution Across Synthetic Data (Ignoring Zero)\")\n",
    "plt.show()\n",
    ""
   ]
  },
  {
   "cell_type": "code",
   "execution_count": null,
   "metadata": {},
   "outputs": [],
   "source": [
    "sorted_df = df.sort_values(by=\"corr\", ascending=False)\n",
    "first_five_values = sorted_df[\"HYPOTHESIS\"].head(5)\n",
    "sorted_df\n",
    ""
   ]
  },
  {
   "cell_type": "code",
   "execution_count": null,
   "metadata": {},
   "outputs": [],
   "source": [
    "i = 0\n",
    "for index, row in sorted_df.iterrows():\n",
    "    print(f\"Row index: {index}\")\n",
    "    print(row[\"HYPOTHESIS\"])\n",
    "    print(row[\"corr\"])\n",
    "    print(\"----------------------\")\n",
    "    i += 1\n",
    "    if i == 6:\n",
    "        break\n",
    ""
   ]
  }
 ],
 "metadata": {
  "kernelspec": {
   "display_name": "base",
   "language": "python",
   "name": "python3"
  },
  "language_info": {
   "codemirror_mode": {
    "name": "ipython",
    "version": 3
   },
   "file_extension": ".py",
   "mimetype": "text/x-python",
   "name": "python",
   "nbconvert_exporter": "python",
   "pygments_lexer": "ipython3",
   "version": "3.11.7"
  }
 },
 "nbformat": 4,
 "nbformat_minor": 2
}
